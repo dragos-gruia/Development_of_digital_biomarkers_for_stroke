{
 "cells": [
  {
   "cell_type": "markdown",
   "metadata": {},
   "source": [
    "# Parsing and cleaning the raw json data obtained from the database"
   ]
  },
  {
   "cell_type": "markdown",
   "metadata": {},
   "source": [
    "### Once the data has been downloaded via the API, we need to parse the it and clean it. We first import all of the functions created to do this."
   ]
  },
  {
   "cell_type": "code",
   "execution_count": 1,
   "metadata": {},
   "outputs": [],
   "source": [
    "from parsing_functions import *"
   ]
  },
  {
   "cell_type": "markdown",
   "metadata": {},
   "source": [
    "### Then we specify the location of the raw data from the database (path_to_file) and the root folder where we want the parsed and clean data to be saved (output_path)"
   ]
  },
  {
   "cell_type": "code",
   "execution_count": 2,
   "metadata": {},
   "outputs": [],
   "source": [
    "path_to_file =\"/Users/dg519/Library/CloudStorage/OneDrive-ImperialCollegeLondon/PhD_work/IC3_Data/pre-processing/data_extraction_server/data_patients_v2/cog_data/raw_data/patientsv2-23-11-23-cog.json\"\n",
    "output_path = '/Users/dg519/Documents/normative_paper_github/master/2_data_parsing-and-formatting'"
   ]
  },
  {
   "cell_type": "markdown",
   "metadata": {},
   "source": [
    "### We then run the wrapper function which goes through all of the parsing and cleaning steps automatically."
   ]
  },
  {
   "cell_type": "code",
   "execution_count": 3,
   "metadata": {},
   "outputs": [
    {
     "name": "stdout",
     "output_type": "stream",
     "text": [
      "File loading\n",
      "Data formatting\n",
      "Harmonising raw data across clinical tests and handling exceptions\n",
      "Clinical scores parsing\n",
      "Parsing of trial-by-trail raw data and speech\n",
      "Outputting summary data in /summary_data folder\n",
      "Outputting trial-level data in /trial_data folder\n"
     ]
    },
    {
     "name": "stderr",
     "output_type": "stream",
     "text": [
      "100%|██████████| 33/33 [00:00<00:00, 35.28it/s]\n"
     ]
    },
    {
     "name": "stdout",
     "output_type": "stream",
     "text": [
      "Outputting Questionnaires in /summary_data and /trial_data folders\n",
      "Parsing and cleaning are complete.\n"
     ]
    }
   ],
   "source": [
    "main_parsing(path_to_file, output_path)"
   ]
  }
 ],
 "metadata": {
  "kernelspec": {
   "display_name": "Python 3",
   "language": "python",
   "name": "python3"
  },
  "language_info": {
   "codemirror_mode": {
    "name": "ipython",
    "version": 3
   },
   "file_extension": ".py",
   "mimetype": "text/x-python",
   "name": "python",
   "nbconvert_exporter": "python",
   "pygments_lexer": "ipython3",
   "version": "3.10.5"
  }
 },
 "nbformat": 4,
 "nbformat_minor": 2
}
