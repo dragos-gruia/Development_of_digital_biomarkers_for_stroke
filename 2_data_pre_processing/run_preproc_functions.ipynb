{
 "cells": [
  {
   "cell_type": "code",
   "execution_count": 2,
   "metadata": {},
   "outputs": [],
   "source": [
    "from preproc_functions_controls import *"
   ]
  },
  {
   "cell_type": "code",
   "execution_count": 3,
   "metadata": {},
   "outputs": [],
   "source": [
    "root_path = '/Users/dg519/Documents/normative_paper_github/data'\n",
    "remote_data_folders='/data_ic3online_cognition'\n",
    "supervised_data_folders=['/data_healthy_v1','/data_healthy_v2']\n",
    "folder_structure=['/summary_data','/trial_data','/speech']\n",
    "output_clean_folder ='/data_healthy_cleaned'\n",
    "list_of_tasks = ['IC3_Orientation', 'IC3_PearCancellation', 'IC3_rs_digitSpan', 'IC3_rs_spatialSpan', 'IC3_rs_PAL', 'IC3_rs_SRT', 'IC3_rs_CRT', 'IC3_SemanticJudgment', 'IC3_i4i_IDED', 'IC3_i4i_motorControl','IC3_calculation', 'IC3_GestureRecognition', 'IC3_AuditorySustainedAttention','IC3_BBCrs_blocks', 'IC3_Comprehension', 'IC3_NVtrailMaking','IC3_rs_oddOneOut', 'IC3_TaskRecall']\n",
    "list_of_questionnaires = ['q_IC3_demographics', 'q_IC3_fatigue','q_IC3_GDS','q_IC3_apathy']\n",
    "list_of_speech = ['IC3_NamingTest','IC3_Reading', 'IC3_Repetition']\n",
    "folder_list = ['data_healthy_v1', 'data_healthy_v2', 'data_ic3online_cognition', 'data_healthy_merged']"
   ]
  },
  {
   "cell_type": "code",
   "execution_count": null,
   "metadata": {},
   "outputs": [],
   "source": [
    "main_preprocessing(root_path, list_of_tasks, list_of_questionnaires, list_of_speech)"
   ]
  },
  {
   "cell_type": "code",
   "execution_count": 1,
   "metadata": {},
   "outputs": [],
   "source": [
    "from preproc_functions_patients import *"
   ]
  },
  {
   "cell_type": "code",
   "execution_count": 2,
   "metadata": {},
   "outputs": [],
   "source": [
    "root_path = '/Users/dg519/Documents/normative_paper_github/data'\n",
    "list_of_tasks = ['IC3_Orientation', 'IC3_PearCancellation', 'IC3_rs_digitSpan', 'IC3_rs_spatialSpan', 'IC3_rs_PAL', 'IC3_rs_SRT', 'IC3_rs_CRT', 'IC3_SemanticJudgment', 'IC3_i4i_IDED', 'IC3_i4i_motorControl','IC3_calculation', 'IC3_GestureRecognition', 'IC3_AuditorySustainedAttention','IC3_BBCrs_blocks', 'IC3_Comprehension', 'IC3_NVtrailMaking','IC3_rs_oddOneOut', 'IC3_TaskRecall']\n",
    "list_of_questionnaires = ['q_IC3_demographics', 'q_IC3_fatigue','q_IC3_GDS','q_IC3_apathy', 'q_IC3_IADL']\n",
    "list_of_speech = ['IC3_NamingTest','IC3_Reading', 'IC3_Repetition']\n",
    "patient_data_folders=['/data_patients_v1','/data_patients_v2']\n",
    "folder_structure=['/summary_data','/trial_data','/speech']\n",
    "output_clean_folder ='/data_patients_cleaned'\n",
    "merged_data_folder ='/data_patients_merged'\n",
    "clean_file_extension='_cleaned'\n",
    "data_format='.csv'\n",
    "clinical_information = '/Users/dg519/Documents/normative_paper_github/data/output_data/patients_database.xlsx'\n"
   ]
  },
  {
   "cell_type": "code",
   "execution_count": 3,
   "metadata": {},
   "outputs": [
    {
     "name": "stdout",
     "output_type": "stream",
     "text": [
      "Starting preprocessing...\n",
      "Merging data across sites...Merged IC3_Orientation\n",
      "Merged IC3_PearCancellation\n",
      "Merged IC3_rs_digitSpan\n",
      "Merged IC3_rs_spatialSpan\n",
      "Merged IC3_rs_PAL\n",
      "Merged IC3_rs_SRT\n",
      "Merged IC3_rs_CRT\n",
      "Merged IC3_SemanticJudgment\n",
      "Merged IC3_i4i_IDED\n",
      "Merged IC3_i4i_motorControl\n",
      "Merged IC3_calculation\n",
      "Merged IC3_GestureRecognition\n",
      "Merged IC3_AuditorySustainedAttention\n",
      "Merged IC3_BBCrs_blocks\n",
      "Merged IC3_Comprehension\n",
      "Merged IC3_NVtrailMaking\n",
      "Merged IC3_rs_oddOneOut\n",
      "Merged IC3_TaskRecall\n",
      "Merged IC3_NamingTest\n",
      "Merged IC3_Reading\n",
      "Merged IC3_Repetition\n",
      "Merged q_IC3_demographics\n",
      "Merged q_IC3_fatigue\n",
      "Merged q_IC3_GDS\n",
      "Merged q_IC3_apathy\n",
      "Merged q_IC3_IADL\n",
      "Done\n",
      "Pre-processing IC3_Orientation...Done\n",
      "Pre-processing IC3_PearCancellation...Done\n",
      "Pre-processing IC3_rs_digitSpan...Done\n",
      "Pre-processing IC3_rs_spatialSpan...Done\n",
      "Pre-processing IC3_rs_PAL...Done\n",
      "Pre-processing IC3_rs_SRT...Done\n",
      "Pre-processing IC3_rs_CRT...Done\n",
      "Pre-processing IC3_SemanticJudgment...Done\n",
      "Pre-processing IC3_i4i_IDED...Done\n",
      "Pre-processing IC3_i4i_motorControl...Done\n",
      "Pre-processing IC3_calculation...Done\n",
      "Pre-processing IC3_GestureRecognition...Done\n",
      "Pre-processing IC3_AuditorySustainedAttention...Done\n",
      "Pre-processing IC3_BBCrs_blocks...Done\n",
      "Pre-processing IC3_Comprehension...Done\n",
      "Pre-processing IC3_NVtrailMaking...Done\n",
      "Pre-processing IC3_rs_oddOneOut...Done\n",
      "Pre-processing IC3_TaskRecall...Done\n",
      "Pre-processing q_IC3_demographics...Done\n",
      "Pre-processing q_IC3_fatigue...Questionnaire q_IC3_fatigue does not have a specific preprocessing function.\n",
      "Pre-processing q_IC3_GDS...Questionnaire q_IC3_GDS does not have a specific preprocessing function.\n",
      "Pre-processing q_IC3_apathy...Questionnaire q_IC3_apathy does not have a specific preprocessing function.\n",
      "Pre-processing q_IC3_IADL...Preprocessing complete.\n"
     ]
    }
   ],
   "source": [
    "df= main_preprocessing(root_path, list_of_tasks, list_of_questionnaires, list_of_speech, clinical_information)"
   ]
  }
 ],
 "metadata": {
  "kernelspec": {
   "display_name": "Python 3",
   "language": "python",
   "name": "python3"
  },
  "language_info": {
   "codemirror_mode": {
    "name": "ipython",
    "version": 3
   },
   "file_extension": ".py",
   "mimetype": "text/x-python",
   "name": "python",
   "nbconvert_exporter": "python",
   "pygments_lexer": "ipython3",
   "version": "3.10.5"
  }
 },
 "nbformat": 4,
 "nbformat_minor": 2
}
